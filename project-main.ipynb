{
 "cells": [
  {
   "cell_type": "code",
   "execution_count": null,
   "id": "7e03478f-aed2-44f4-96e8-4806f651fd4b",
   "metadata": {},
   "outputs": [],
   "source": [
    "#Main notebook file\n",
    "#Dataset import reserved cell"
   ]
  },
  {
   "cell_type": "code",
   "execution_count": null,
   "id": "82cd24c5-2d44-46da-a5f7-6e2bc568230f",
   "metadata": {},
   "outputs": [],
   "source": [
    "#Jeisse reserved"
   ]
  },
  {
   "cell_type": "code",
   "execution_count": null,
   "id": "99bfc79a-190e-4566-8aea-55d84e1a790c",
   "metadata": {},
   "outputs": [],
   "source": [
    "#test"
   ]
  },
  {
   "cell_type": "code",
   "execution_count": null,
   "id": "34dcfc6d-07f3-48b5-8ad0-39598822fa1c",
   "metadata": {},
   "outputs": [],
   "source": [
    "#Joey reserved"
   ]
  },
  {
   "cell_type": "code",
   "execution_count": null,
   "id": "3480d5b9-8cdc-499c-8e97-aff3472c6098",
   "metadata": {},
   "outputs": [],
   "source": [
    "#Matyas reserved"
   ]
  }
 ],
 "metadata": {
  "kernelspec": {
   "display_name": "Python 3 (ipykernel)",
   "language": "python",
   "name": "python3"
  },
  "language_info": {
   "codemirror_mode": {
    "name": "ipython",
    "version": 3
   },
   "file_extension": ".py",
   "mimetype": "text/x-python",
   "name": "python",
   "nbconvert_exporter": "python",
   "pygments_lexer": "ipython3",
   "version": "3.8.13"
  }
 },
 "nbformat": 4,
 "nbformat_minor": 5
}
