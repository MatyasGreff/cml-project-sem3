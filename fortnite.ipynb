{
 "cells": [
  {
   "cell_type": "code",
   "execution_count": 30,
   "id": "564aea20-6df3-40f0-bebe-67c69c844240",
   "metadata": {},
   "outputs": [
    {
     "data": {
      "text/html": [
       "<div>\n",
       "<style scoped>\n",
       "    .dataframe tbody tr th:only-of-type {\n",
       "        vertical-align: middle;\n",
       "    }\n",
       "\n",
       "    .dataframe tbody tr th {\n",
       "        vertical-align: top;\n",
       "    }\n",
       "\n",
       "    .dataframe thead th {\n",
       "        text-align: right;\n",
       "    }\n",
       "</style>\n",
       "<table border=\"1\" class=\"dataframe\">\n",
       "  <thead>\n",
       "    <tr style=\"text-align: right;\">\n",
       "      <th></th>\n",
       "      <th>Player</th>\n",
       "      <th>Solo score</th>\n",
       "      <th>Solo top1</th>\n",
       "      <th>Solo kd</th>\n",
       "      <th>Solo winRatio</th>\n",
       "      <th>Solo matches</th>\n",
       "      <th>Solo kills</th>\n",
       "      <th>Solo minutesPlayed</th>\n",
       "      <th>Duos score</th>\n",
       "      <th>Duos top1</th>\n",
       "      <th>...</th>\n",
       "      <th>Squads kills</th>\n",
       "      <th>Squads minutesPlayed</th>\n",
       "      <th>LTM score</th>\n",
       "      <th>LTM top1</th>\n",
       "      <th>LTM top3</th>\n",
       "      <th>LTM kd</th>\n",
       "      <th>LTM winRatio</th>\n",
       "      <th>LTM matches</th>\n",
       "      <th>LTM kills</th>\n",
       "      <th>LTM minutesPlayed</th>\n",
       "    </tr>\n",
       "  </thead>\n",
       "  <tbody>\n",
       "    <tr>\n",
       "      <th>0</th>\n",
       "      <td>Prospеring</td>\n",
       "      <td>2476763</td>\n",
       "      <td>1828</td>\n",
       "      <td>4.37</td>\n",
       "      <td>18.0</td>\n",
       "      <td>10150</td>\n",
       "      <td>36328</td>\n",
       "      <td>81389</td>\n",
       "      <td>4702684</td>\n",
       "      <td>5584</td>\n",
       "      <td>...</td>\n",
       "      <td>75787.0</td>\n",
       "      <td>117967.0</td>\n",
       "      <td>101589.0</td>\n",
       "      <td>170.0</td>\n",
       "      <td>118.0</td>\n",
       "      <td>5.78</td>\n",
       "      <td>26.8</td>\n",
       "      <td>634.0</td>\n",
       "      <td>2682.0</td>\n",
       "      <td>2865.0</td>\n",
       "    </tr>\n",
       "    <tr>\n",
       "      <th>1</th>\n",
       "      <td>BH nixxxay</td>\n",
       "      <td>439562</td>\n",
       "      <td>1694</td>\n",
       "      <td>8.71</td>\n",
       "      <td>29.1</td>\n",
       "      <td>5817</td>\n",
       "      <td>35895</td>\n",
       "      <td>12732</td>\n",
       "      <td>4065613</td>\n",
       "      <td>4141</td>\n",
       "      <td>...</td>\n",
       "      <td>117327.0</td>\n",
       "      <td>150439.0</td>\n",
       "      <td>151358.0</td>\n",
       "      <td>229.0</td>\n",
       "      <td>190.0</td>\n",
       "      <td>8.20</td>\n",
       "      <td>18.2</td>\n",
       "      <td>1259.0</td>\n",
       "      <td>8442.0</td>\n",
       "      <td>4206.0</td>\n",
       "    </tr>\n",
       "    <tr>\n",
       "      <th>2</th>\n",
       "      <td>Raпger</td>\n",
       "      <td>4519465</td>\n",
       "      <td>4582</td>\n",
       "      <td>9.60</td>\n",
       "      <td>34.0</td>\n",
       "      <td>13488</td>\n",
       "      <td>85481</td>\n",
       "      <td>122171</td>\n",
       "      <td>1137279</td>\n",
       "      <td>1390</td>\n",
       "      <td>...</td>\n",
       "      <td>76065.0</td>\n",
       "      <td>86684.0</td>\n",
       "      <td>452136.0</td>\n",
       "      <td>1180.0</td>\n",
       "      <td>818.0</td>\n",
       "      <td>11.12</td>\n",
       "      <td>32.9</td>\n",
       "      <td>3583.0</td>\n",
       "      <td>26726.0</td>\n",
       "      <td>12273.0</td>\n",
       "    </tr>\n",
       "    <tr>\n",
       "      <th>3</th>\n",
       "      <td>Idk_Pi</td>\n",
       "      <td>752869</td>\n",
       "      <td>121</td>\n",
       "      <td>0.84</td>\n",
       "      <td>3.3</td>\n",
       "      <td>3687</td>\n",
       "      <td>3005</td>\n",
       "      <td>32453</td>\n",
       "      <td>5326457</td>\n",
       "      <td>2249</td>\n",
       "      <td>...</td>\n",
       "      <td>6892.0</td>\n",
       "      <td>80016.0</td>\n",
       "      <td>1748407.0</td>\n",
       "      <td>190.0</td>\n",
       "      <td>246.0</td>\n",
       "      <td>2.33</td>\n",
       "      <td>5.4</td>\n",
       "      <td>3539.0</td>\n",
       "      <td>7787.0</td>\n",
       "      <td>33224.0</td>\n",
       "    </tr>\n",
       "    <tr>\n",
       "      <th>4</th>\n",
       "      <td>Twitch.GryphonRB</td>\n",
       "      <td>1136282</td>\n",
       "      <td>1327</td>\n",
       "      <td>6.32</td>\n",
       "      <td>30.0</td>\n",
       "      <td>4429</td>\n",
       "      <td>19591</td>\n",
       "      <td>36245</td>\n",
       "      <td>3692623</td>\n",
       "      <td>5743</td>\n",
       "      <td>...</td>\n",
       "      <td>46068.0</td>\n",
       "      <td>81424.0</td>\n",
       "      <td>556721.0</td>\n",
       "      <td>824.0</td>\n",
       "      <td>600.0</td>\n",
       "      <td>14.99</td>\n",
       "      <td>53.3</td>\n",
       "      <td>1546.0</td>\n",
       "      <td>10826.0</td>\n",
       "      <td>12019.0</td>\n",
       "    </tr>\n",
       "  </tbody>\n",
       "</table>\n",
       "<p>5 rows × 37 columns</p>\n",
       "</div>"
      ],
      "text/plain": [
       "             Player  Solo score  Solo top1  Solo kd  Solo winRatio  \\\n",
       "0        Prospеring     2476763       1828     4.37           18.0   \n",
       "1        BH nixxxay      439562       1694     8.71           29.1   \n",
       "2            Raпger     4519465       4582     9.60           34.0   \n",
       "3            Idk_Pi      752869        121     0.84            3.3   \n",
       "4  Twitch.GryphonRB     1136282       1327     6.32           30.0   \n",
       "\n",
       "   Solo matches  Solo kills  Solo minutesPlayed  Duos score  Duos top1  ...  \\\n",
       "0         10150       36328               81389     4702684       5584  ...   \n",
       "1          5817       35895               12732     4065613       4141  ...   \n",
       "2         13488       85481              122171     1137279       1390  ...   \n",
       "3          3687        3005               32453     5326457       2249  ...   \n",
       "4          4429       19591               36245     3692623       5743  ...   \n",
       "\n",
       "   Squads kills  Squads minutesPlayed  LTM score  LTM top1  LTM top3  LTM kd  \\\n",
       "0       75787.0              117967.0   101589.0     170.0     118.0    5.78   \n",
       "1      117327.0              150439.0   151358.0     229.0     190.0    8.20   \n",
       "2       76065.0               86684.0   452136.0    1180.0     818.0   11.12   \n",
       "3        6892.0               80016.0  1748407.0     190.0     246.0    2.33   \n",
       "4       46068.0               81424.0   556721.0     824.0     600.0   14.99   \n",
       "\n",
       "   LTM winRatio  LTM matches  LTM kills  LTM minutesPlayed  \n",
       "0          26.8        634.0     2682.0             2865.0  \n",
       "1          18.2       1259.0     8442.0             4206.0  \n",
       "2          32.9       3583.0    26726.0            12273.0  \n",
       "3           5.4       3539.0     7787.0            33224.0  \n",
       "4          53.3       1546.0    10826.0            12019.0  \n",
       "\n",
       "[5 rows x 37 columns]"
      ]
     },
     "execution_count": 30,
     "metadata": {},
     "output_type": "execute_result"
    }
   ],
   "source": [
    "import pandas as pd\n",
    "from sklearn import preprocessing\n",
    "import numpy as np\n",
    "from sklearn.model_selection import train_test_split\n",
    "from sklearn.metrics import mean_absolute_error\n",
    "from sklearn.metrics import mean_squared_error\n",
    "\n",
    "data = pd.read_csv('Fortnite_players_stats.csv')\n",
    "## look at the data\n",
    "data.head()"
   ]
  },
  {
   "cell_type": "code",
   "execution_count": 31,
   "id": "ef7f74da-8208-40ea-8249-945e1c8f2636",
   "metadata": {},
   "outputs": [
    {
     "data": {
      "image/png": "[encoded data removed]",
      "text/plain": [
       "<Figure size 432x288 with 1 Axes>"
      ]
     },
     "metadata": {
      "needs_background": "light"
     },
     "output_type": "display_data"
    }
   ],
   "source": [
    "# Scipy’s Linear Regression\n",
    "# Undertanding if there are predictin errors\n",
    "from scipy import stats\n",
    "import matplotlib.pyplot as plt\n",
    "import pandas as pd\n",
    "data = pd.read_csv('Fortnite_players_stats.csv')\n",
    "xi = data['Solo score']\n",
    "yi = data['Solo kills']\n",
    "slope, intercept, r, p, std_err = stats.linregress(xi, yi)\n",
    "\n",
    "def myfunc(x):\n",
    "    return slope * x + intercept\n",
    "\n",
    "mymodel = list(map(myfunc, xi))\n",
    "plt.scatter(xi, yi)\n",
    "plt.plot(xi, mymodel)\n",
    "plt.show()"
   ]
  },
  {
   "cell_type": "code",
   "execution_count": 32,
   "id": "df264332-efc8-4499-b312-99c033b748f4",
   "metadata": {},
   "outputs": [
    {
     "name": "stdout",
     "output_type": "stream",
     "text": [
      "4774    3\n",
      "1518    3\n",
      "9581    2\n",
      "3644    2\n",
      "6121    2\n",
      "       ..\n",
      "2296    1\n",
      "2166    1\n",
      "6378    1\n",
      "5068    1\n",
      "7105    1\n",
      "Name: Solo matches, Length: 1370, dtype: int64\n",
      "Solo Score represents: 95.47038327526133 % of the dataset.\n",
      "Duo win ratio represents: 19.930313588850172 % of the dataset.\n"
     ]
    }
   ],
   "source": [
    "#Analysing imbalance \n",
    "targetMatches = data['Solo matches'].value_counts()\n",
    "print(targetMatches)\n",
    "print(\"Solo Score represents:\",(len(targetMatches)/len(data))*100, \"% of the dataset.\")\n",
    "\n",
    "targetWinratio = data['Duos winRatio'].value_counts()\n",
    "#print(targetWinratio)\n",
    "print(\"Duo win ratio represents:\",(len(targetWinratio)/len(data))*100, \"% of the dataset.\")"
   ]
  },
  {
   "cell_type": "code",
   "execution_count": 33,
   "id": "43fbab00-11cf-4029-b123-40cbfdff67ed",
   "metadata": {},
   "outputs": [
    {
     "name": "stdout",
     "output_type": "stream",
     "text": [
      "[0.83461503]\n"
     ]
    }
   ],
   "source": [
    "from sklearn import linear_model\n",
    "## based on solo win ratio predict duo win ratio\n",
    "soloWinRatioX = data[['Solo winRatio']]\n",
    "duoWinRatioY = data['Duos winRatio']\n",
    "\n",
    "regr = linear_model.LinearRegression()\n",
    "regr.fit(soloWinRatioX, duoWinRatioY)\n",
    "# The model's regression coefficients\n",
    "print(regr.coef_)"
   ]
  },
  {
   "cell_type": "code",
   "execution_count": 34,
   "id": "38f607f7-cb9b-400c-bc17-5dabf93b21dc",
   "metadata": {},
   "outputs": [
    {
     "name": "stdout",
     "output_type": "stream",
     "text": [
      "[23.82635807]\n"
     ]
    },
    {
     "name": "stderr",
     "output_type": "stream",
     "text": [
      "/Users/jeisse.rocha/opt/anaconda3/lib/python3.9/site-packages/sklearn/base.py:450: UserWarning: X does not have valid feature names, but LinearRegression was fitted with feature names\n",
      "  warnings.warn(\n"
     ]
    }
   ],
   "source": [
    "predicted = regr.predict([[20]])\n",
    "print(predicted)"
   ]
  },
  {
   "cell_type": "code",
   "execution_count": 56,
   "id": "1093b397-95f0-413a-b6f6-4705c73d59b2",
   "metadata": {},
   "outputs": [
    {
     "name": "stdout",
     "output_type": "stream",
     "text": [
      "mean_absolute_error: 32.93554416813547\n",
      "mean_squared_error: 8.718309461164313\n"
     ]
    }
   ],
   "source": [
    "#for regression metrics, use variance explanation for absolute and squered error\n",
    "X_train, X_test, y_train, y_test = train_test_split(soloWinRatioX, duoWinRatioY, test_size=0.33, random_state=42)\n",
    "# initialize and fit to your train data and predict on test data\n",
    "\n",
    "regr.fit(X_train, y_train)\n",
    "preds = regr.predict(X_test)\n",
    "# evaluate\n",
    "mean_absolute_error(y_test, preds) == np.mean(np.abs(y_test - preds))\n",
    "# get the variance of (absolute) residuals\n",
    "np.var(np.abs(y_test - preds))\n",
    "resultQ1a = np.var((y_test - preds))\n",
    "print('mean_absolute_error:', resultQ1a)\n",
    "\n",
    "resultQ1s = mean_squared_error(soloWinRatioX, duoWinRatioY, squared=False)\n",
    "\n",
    "print('mean_squared_error:', resultQ1s)"
   ]
  },
  {
   "cell_type": "code",
   "execution_count": 51,
   "id": "0eaf76aa-25b9-40d1-a7c1-117de8afdc2b",
   "metadata": {},
   "outputs": [
    {
     "name": "stdout",
     "output_type": "stream",
     "text": [
      "[3.93996792]\n"
     ]
    }
   ],
   "source": [
    "## based on number of Solo kills predict Solo winRatio\n",
    "# The more you kill enemies, more often you gonna win?\n",
    "soloKillsX = data[['Solo kd']]\n",
    "soloWinRatioY = data['Solo winRatio']\n",
    "\n",
    "regr = linear_model.LinearRegression()\n",
    "regr.fit(soloKillsX, soloWinRatioY)\n",
    "# The model's regression coefficients\n",
    "print(regr.coef_)"
   ]
  },
  {
   "cell_type": "code",
   "execution_count": 50,
   "id": "b2c55b2e-f818-4f5a-b9dc-46119b2b1112",
   "metadata": {},
   "outputs": [
    {
     "name": "stdout",
     "output_type": "stream",
     "text": [
      "[13.45764659]\n"
     ]
    },
    {
     "name": "stderr",
     "output_type": "stream",
     "text": [
      "/Users/jeisse.rocha/opt/anaconda3/lib/python3.9/site-packages/sklearn/base.py:450: UserWarning: X does not have valid feature names, but LinearRegression was fitted with feature names\n",
      "  warnings.warn(\n"
     ]
    }
   ],
   "source": [
    "# first matches you are mostly playing aganst easy bots so easy to kill, the more you play, more you face high level players\n",
    "predicted = regr.predict([[4]])\n",
    "print(predicted)"
   ]
  },
  {
   "cell_type": "code",
   "execution_count": 54,
   "id": "1feff02d-e36b-487c-85f3-caf85f5eafa2",
   "metadata": {},
   "outputs": [
    {
     "name": "stdout",
     "output_type": "stream",
     "text": [
      "mean_absolute_error: 6.735083039613258\n",
      "mean_squared_error: 5.332080615799033\n"
     ]
    }
   ],
   "source": [
    "#for regression metrics, use variance explanation for absolute and squered error\n",
    "X_train, X_test, y_train, y_test = train_test_split(soloMatchesX, soloWinRatioY, test_size=0.33, random_state=42)\n",
    "# initialize and fit to your train data and predict on test data\n",
    "\n",
    "regr.fit(X_train, y_train)\n",
    "preds = regr.predict(X_test)\n",
    "# evaluate\n",
    "mean_absolute_error(y_test, preds) == np.mean(np.abs(y_test - preds))\n",
    "# get the variance of (absolute) residuals\n",
    "np.var(np.abs(y_test - preds))\n",
    "resultQ2a = np.var((y_test - preds))\n",
    "print('mean_absolute_error:', resultQ2a)\n",
    "\n",
    "resultQ2s = mean_squared_error(soloKillsX, soloWinRatioY, squared=False)\n",
    "\n",
    "print('mean_squared_error:', resultQ2s)"
   ]
  },
  {
   "cell_type": "code",
   "execution_count": 22,
   "id": "96ae1575-eceb-44e6-980d-0093664a30d9",
   "metadata": {},
   "outputs": [
    {
     "name": "stdout",
     "output_type": "stream",
     "text": [
      "                            OLS Regression Results                            \n",
      "==============================================================================\n",
      "Dep. Variable:          Solo winRatio   R-squared:                       1.000\n",
      "Model:                            OLS   Adj. R-squared:                  1.000\n",
      "Method:                 Least Squares   F-statistic:                 5.576e+28\n",
      "Date:                Mon, 15 Aug 2022   Prob (F-statistic):               0.00\n",
      "Time:                        20:16:51   Log-Likelihood:                 38338.\n",
      "No. Observations:                1435   AIC:                        -7.667e+04\n",
      "Df Residuals:                    1432   BIC:                        -7.665e+04\n",
      "Df Model:                           2                                         \n",
      "Covariance Type:            nonrobust                                         \n",
      "=================================================================================\n",
      "                    coef    std err          t      P>|t|      [0.025      0.975]\n",
      "---------------------------------------------------------------------------------\n",
      "const          2.882e-13   2.99e-14      9.630      0.000     2.3e-13    3.47e-13\n",
      "Solo winRatio     1.0000      3e-15   3.34e+14      0.000       1.000       1.000\n",
      "Solo matches   3.795e-17   2.95e-18     12.854      0.000    3.22e-17    4.37e-17\n",
      "==============================================================================\n",
      "Omnibus:                      369.061   Durbin-Watson:                   0.228\n",
      "Prob(Omnibus):                  0.000   Jarque-Bera (JB):              919.485\n",
      "Skew:                          -1.371   Prob(JB):                    2.17e-200\n",
      "Kurtosis:                       5.803   Cond. No.                     1.65e+04\n",
      "==============================================================================\n",
      "\n",
      "Notes:\n",
      "[1] Standard Errors assume that the covariance matrix of the errors is correctly specified.\n",
      "[2] The condition number is large, 1.65e+04. This might indicate that there are\n",
      "strong multicollinearity or other numerical problems.\n"
     ]
    }
   ],
   "source": [
    "import pandas as pd\n",
    "import numpy as np\n",
    "from sklearn import datasets, linear_model\n",
    "from sklearn.linear_model import LinearRegression\n",
    "import statsmodels.api as sm\n",
    "from scipy import stats\n",
    "\n",
    "X = data[['Solo winRatio','Solo matches']]\n",
    "y = data['Solo winRatio']\n",
    "\n",
    "X2 = sm.add_constant(X)\n",
    "est = sm.OLS(y, X2)\n",
    "est2 = est.fit()\n",
    "print(est2.summary())"
   ]
  },
  {
   "cell_type": "code",
   "execution_count": null,
   "id": "e72c3517-139b-4fb6-acff-a3c4f9ea154e",
   "metadata": {},
   "outputs": [],
   "source": []
  }
 ],
 "metadata": {
  "kernelspec": {
   "display_name": "Python 3 (ipykernel)",
   "language": "python",
   "name": "python3"
  },
  "language_info": {
   "codemirror_mode": {
    "name": "ipython",
    "version": 3
   },
   "file_extension": ".py",
   "mimetype": "text/x-python",
   "name": "python",
   "nbconvert_exporter": "python",
   "pygments_lexer": "ipython3",
   "version": "3.9.12"
  }
 },
 "nbformat": 4,
 "nbformat_minor": 5
}
